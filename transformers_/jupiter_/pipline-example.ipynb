{
 "cells": [
  {
   "cell_type": "code",
   "execution_count": 57,
   "id": "eebc2c40-d426-478a-90bc-08f219bf9d83",
   "metadata": {},
   "outputs": [],
   "source": [
    "from transformers import pipeline"
   ]
  },
  {
   "cell_type": "code",
   "execution_count": 58,
   "id": "ed4ca3d6-f742-4847-b3b9-d6286adb9526",
   "metadata": {},
   "outputs": [],
   "source": [
    "classifier = pipeline('sentiment-analysis') "
   ]
  },
  {
   "cell_type": "code",
   "execution_count": 59,
   "id": "76ad96d6-5a62-4a30-abd3-3a9119374f55",
   "metadata": {},
   "outputs": [
    {
     "data": {
      "text/plain": [
       "[{'label': 'POSITIVE', 'score': 0.9997795224189758}]"
      ]
     },
     "execution_count": 59,
     "metadata": {},
     "output_type": "execute_result"
    }
   ],
   "source": [
    "classifier('We are very happy to show you the 🤗 Transformers library.')"
   ]
  },
  {
   "cell_type": "code",
   "execution_count": 60,
   "id": "700851b7-7b65-4b5a-b2ad-68efbc2e2b19",
   "metadata": {},
   "outputs": [],
   "source": [
    "from transformers import AutoTokenizer, AutoModelForSequenceClassification"
   ]
  },
  {
   "cell_type": "code",
   "execution_count": 61,
   "id": "7bde29f5-761d-48bc-a2f4-9bbfa3a8b2b4",
   "metadata": {},
   "outputs": [],
   "source": [
    "model_name = 'nlptown/bert-base-multilingual-uncased-sentiment'"
   ]
  },
  {
   "cell_type": "code",
   "execution_count": 62,
   "id": "80e532e6-6958-464d-a4f2-1053359dedf5",
   "metadata": {},
   "outputs": [],
   "source": [
    "tokenizer = AutoTokenizer.from_pretrained(model_name)"
   ]
  },
  {
   "cell_type": "code",
   "execution_count": 63,
   "id": "8d94dc5a-3406-4556-9eca-980bacddef13",
   "metadata": {},
   "outputs": [
    {
     "data": {
      "text/plain": [
       "{'input_ids': [101, 10372, 10127, 10497, 10146, 151, 25897, 102], 'token_type_ids': [0, 0, 0, 0, 0, 0, 0, 0], 'attention_mask': [1, 1, 1, 1, 1, 1, 1, 1]}"
      ]
     },
     "execution_count": 63,
     "metadata": {},
     "output_type": "execute_result"
    }
   ],
   "source": [
    "tokenizer('this is not as I expected')"
   ]
  },
  {
   "cell_type": "code",
   "execution_count": 64,
   "id": "f737a0bb-92c5-4d37-b7e9-e86fe51409ce",
   "metadata": {},
   "outputs": [],
   "source": [
    "pt_batch = tokenizer(['this is not what I expected','could\"nt be better!'], \n",
    "                     padding=True, truncation=True, max_length=512, return_tensors='pt')"
   ]
  },
  {
   "cell_type": "code",
   "execution_count": 65,
   "id": "4ec8cfef-2162-487a-8e12-099694b92675",
   "metadata": {},
   "outputs": [
    {
     "data": {
      "text/plain": [
       "{'input_ids': tensor([[  101, 10372, 10127, 10497, 11523,   151, 25897,   102],\n",
       "        [  101, 12296,   107, 33674, 10346, 16197,   106,   102]]), 'token_type_ids': tensor([[0, 0, 0, 0, 0, 0, 0, 0],\n",
       "        [0, 0, 0, 0, 0, 0, 0, 0]]), 'attention_mask': tensor([[1, 1, 1, 1, 1, 1, 1, 1],\n",
       "        [1, 1, 1, 1, 1, 1, 1, 1]])}"
      ]
     },
     "execution_count": 65,
     "metadata": {},
     "output_type": "execute_result"
    }
   ],
   "source": [
    "pt_batch"
   ]
  },
  {
   "cell_type": "code",
   "execution_count": 66,
   "id": "7fc61fac-79c7-4f37-9e63-c0d735abdff1",
   "metadata": {},
   "outputs": [],
   "source": [
    "pt_model = AutoModelForSequenceClassification.from_pretrained(model_name)"
   ]
  },
  {
   "cell_type": "code",
   "execution_count": 67,
   "id": "704c6dfd-0043-4929-9509-426acb512108",
   "metadata": {},
   "outputs": [],
   "source": [
    "pt_outputs = pt_model(**pt_batch)"
   ]
  },
  {
   "cell_type": "code",
   "execution_count": 68,
   "id": "8c474ea9-f433-4581-8672-f6e887541a68",
   "metadata": {},
   "outputs": [
    {
     "data": {
      "text/plain": [
       "SequenceClassifierOutput(loss=None, logits=tensor([[ 1.6933,  1.9720,  1.4478, -1.4204, -2.9359],\n",
       "        [-0.0645,  0.9574,  1.1626, -0.2588, -1.5373]],\n",
       "       grad_fn=<AddmmBackward>), hidden_states=None, attentions=None)"
      ]
     },
     "execution_count": 68,
     "metadata": {},
     "output_type": "execute_result"
    }
   ],
   "source": [
    "pt_outputs"
   ]
  },
  {
   "cell_type": "code",
   "execution_count": 69,
   "id": "ecf43d6e-617d-4c66-88ee-653b3b7e5dda",
   "metadata": {},
   "outputs": [],
   "source": [
    "import torch.nn.functional as F"
   ]
  },
  {
   "cell_type": "code",
   "execution_count": 70,
   "id": "7b6147f3-4976-45ec-b5e4-4c60e857d1e0",
   "metadata": {},
   "outputs": [],
   "source": [
    "pt_predictions = F.softmax(pt_outputs.logits, dim=-1)"
   ]
  },
  {
   "cell_type": "code",
   "execution_count": 71,
   "id": "2c9a59e6-acf1-41d4-92bb-f2ccdfc863c1",
   "metadata": {},
   "outputs": [
    {
     "data": {
      "text/plain": [
       "tensor([[0.3167, 0.4184, 0.2477, 0.0141, 0.0031],\n",
       "        [0.1213, 0.3371, 0.4139, 0.0999, 0.0278]], grad_fn=<SoftmaxBackward>)"
      ]
     },
     "execution_count": 71,
     "metadata": {},
     "output_type": "execute_result"
    }
   ],
   "source": [
    "pt_predictions"
   ]
  },
  {
   "cell_type": "code",
   "execution_count": null,
   "id": "a2408590-4d4e-4068-bf59-160b55d09a8d",
   "metadata": {},
   "outputs": [],
   "source": []
  },
  {
   "cell_type": "code",
   "execution_count": null,
   "id": "8564ba0b-cbcc-4561-ab5a-3fa2cf1e15e4",
   "metadata": {},
   "outputs": [],
   "source": []
  }
 ],
 "metadata": {
  "kernelspec": {
   "display_name": "Python 3",
   "language": "python",
   "name": "python3"
  },
  "language_info": {
   "codemirror_mode": {
    "name": "ipython",
    "version": 3
   },
   "file_extension": ".py",
   "mimetype": "text/x-python",
   "name": "python",
   "nbconvert_exporter": "python",
   "pygments_lexer": "ipython3",
   "version": "3.8.10"
  }
 },
 "nbformat": 4,
 "nbformat_minor": 5
}
